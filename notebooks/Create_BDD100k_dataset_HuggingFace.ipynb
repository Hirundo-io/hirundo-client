{
  "cells": [
    {
      "cell_type": "markdown",
      "metadata": {
        "colab_type": "text",
        "id": "view-in-github"
      },
      "source": [
        "<a href=\"https://colab.research.google.com/github/Hirundo-io/hirundo-python-sdk/blob/clnt-18-add-tutorials-section-to-docs/notebooks/Create_BDD100k_dataset_HuggingFace.ipynb\" target=\"_parent\"><img src=\"https://colab.research.google.com/assets/colab-badge.svg\" alt=\"Open In Colab\"/></a>"
      ]
    },
    {
      "cell_type": "markdown",
      "metadata": {
        "id": "g_LpV5xrmW9e"
      },
      "source": [
        "# How to create a Hirundo dataset (HuggingFace)\n",
        "\n",
        "--\n",
        "\n",
        "0. Install `pandas` and `tqdm` and set `huggingface_account`"
      ]
    },
    {
      "cell_type": "code",
      "execution_count": 1,
      "metadata": {
        "colab": {
          "base_uri": "https://localhost:8080/"
        },
        "id": "gTmTQZEFQ57J",
        "outputId": "7c731f6c-b058-4c96-8bdc-55733bfb4e87"
      },
      "outputs": [
        {
          "name": "stdout",
          "output_type": "stream",
          "text": [
            "Requirement already satisfied: pandas in /usr/local/lib/python3.10/dist-packages (2.1.4)\n",
            "Requirement already satisfied: tqdm in /usr/local/lib/python3.10/dist-packages (4.66.5)\n",
            "Requirement already satisfied: numpy<2,>=1.22.4 in /usr/local/lib/python3.10/dist-packages (from pandas) (1.26.4)\n",
            "Requirement already satisfied: python-dateutil>=2.8.2 in /usr/local/lib/python3.10/dist-packages (from pandas) (2.8.2)\n",
            "Requirement already satisfied: pytz>=2020.1 in /usr/local/lib/python3.10/dist-packages (from pandas) (2024.2)\n",
            "Requirement already satisfied: tzdata>=2022.1 in /usr/local/lib/python3.10/dist-packages (from pandas) (2024.1)\n",
            "Requirement already satisfied: six>=1.5 in /usr/local/lib/python3.10/dist-packages (from python-dateutil>=2.8.2->pandas) (1.16.0)\n"
          ]
        }
      ],
      "source": [
        "%pip install pandas tqdm\n",
        "import os\n",
        "\n",
        "from google.colab import userdata\n",
        "\n",
        "os.environ[\"HF_TOKEN\"] = userdata.get(\"HF_TOKEN\")\n",
        "\n",
        "huggingface_account = \"hirundo-io\"  # @param {type:\"string\"}"
      ]
    },
    {
      "cell_type": "markdown",
      "metadata": {
        "id": "a_EG50TkQ8E0"
      },
      "source": [
        "1. Import `tempfile` to create a temporary directory, and import `requests`, `zipfile`, `io`, & `hashlib` to download and unzip BDD100k."
      ]
    },
    {
      "cell_type": "code",
      "execution_count": null,
      "metadata": {
        "id": "PnT-el8nQ-MG"
      },
      "outputs": [],
      "source": [
        "import hashlib\n",
        "import io\n",
        "import tempfile\n",
        "import zipfile\n",
        "from pathlib import Path\n",
        "\n",
        "import requests\n",
        "\n",
        "bdd100k_temp_dir = tempfile.TemporaryDirectory()\n",
        "bdd100k_temp_dir_name = bdd100k_temp_dir.name\n",
        "bdd100k_temp_dir_path = Path(bdd100k_temp_dir_name)\n",
        "\n",
        "\n",
        "def get_zip_check_md5_and_unzip(url: str, target_folder: str, check_md5=False):\n",
        "    data_request_result = requests.get(url, timeout=900)\n",
        "    data_bytes = data_request_result.content\n",
        "    if check_md5:\n",
        "        data_verify_md5 = requests.get(f\"{url}.md5\", timeout=30).text.split(\" \")[0]\n",
        "        data_actual_md5 = hashlib.md5(data_bytes).hexdigest()\n",
        "        if data_verify_md5 != data_actual_md5:\n",
        "            raise ValueError(\n",
        "                f\"ZIP download failed. {data_verify_md5} != {data_actual_md5}. Try again\"\n",
        "            )\n",
        "    data_zip = zipfile.ZipFile(io.BytesIO(data_bytes))\n",
        "    data_zip.extractall(target_folder)\n",
        "\n",
        "\n",
        "get_zip_check_md5_and_unzip(\n",
        "    \"https://dl.cv.ethz.ch/bdd100k/data/100k_images_val.zip\",\n",
        "    bdd100k_temp_dir_name,\n",
        "    check_md5=True,\n",
        ")\n",
        "get_zip_check_md5_and_unzip(\n",
        "    \"https://dl.cv.ethz.ch/bdd100k/data/bdd100k_det_20_labels_trainval.zip\",\n",
        "    bdd100k_temp_dir_name,\n",
        ")\n",
        "#  ⬆️ as per: https://doc.bdd100k.com/download.html"
      ]
    },
    {
      "cell_type": "markdown",
      "metadata": {
        "id": "LCbIfyb0SEOL"
      },
      "source": [
        "2. Import `Path` from `pathlib`, `json`, `pandas` and `tqdm` to create dataset DataFrame.\n"
      ]
    },
    {
      "cell_type": "code",
      "execution_count": 3,
      "metadata": {
        "id": "kg_jEsE3RGs2"
      },
      "outputs": [],
      "source": [
        "import json\n",
        "from pathlib import Path\n",
        "\n",
        "import pandas as pd\n",
        "from tqdm import tqdm"
      ]
    },
    {
      "cell_type": "markdown",
      "metadata": {
        "id": "ye7piGx8SLJ9"
      },
      "source": [
        "3. Create Hirundo CSV for dataset, with `tqdm` to track progress, from source JSON file."
      ]
    },
    {
      "cell_type": "code",
      "execution_count": null,
      "metadata": {
        "colab": {
          "base_uri": "https://localhost:8080/"
        },
        "id": "Rz6zqU1pHvIT",
        "outputId": "423fd537-5247-456f-9d9a-65bee57915fc"
      },
      "outputs": [
        {
          "name": "stderr",
          "output_type": "stream",
          "text": [
            "Loading BDD100K validation set: 100%|██████████| 10000/10000 [00:02<00:00, 4653.75it/s]\n"
          ]
        }
      ],
      "source": [
        "df_rows = []\n",
        "\n",
        "bdd100k_hirundo_temp_dir = tempfile.TemporaryDirectory()\n",
        "bdd100k_hirundo_temp_dir_name = bdd100k_hirundo_temp_dir.name\n",
        "\n",
        "bdd100k_hirundo_temp_dir_path = Path(bdd100k_hirundo_temp_dir_name)\n",
        "with open(bdd100k_temp_dir_path / \"bdd100k/labels/det_20/det_val.json\") as f:\n",
        "    data = json.load(f)\n",
        "\n",
        "for sample in tqdm(data, total=len(data), desc=\"Loading BDD100K validation set\"):\n",
        "    if sample[\"labels\"] is not None:\n",
        "        for i, label in enumerate(sample[\"labels\"]):\n",
        "            df_rows.append(\n",
        "                {\n",
        "                    \"image_path\": str(\n",
        "                        Path(\"/bdd100k/images/100k/val/\") / sample[\"name\"]\n",
        "                    ),\n",
        "                    \"bbox_id\": str(\n",
        "                        i\n",
        "                    ),  # Box index in image used for box ID (since no unique ID is provided)\n",
        "                    \"class_name\": label[\"category\"],\n",
        "                    \"xmin\": int(label[\"box2d\"][\"x1\"]),\n",
        "                    \"ymin\": int(label[\"box2d\"][\"y1\"]),\n",
        "                    \"xmax\": int(label[\"box2d\"][\"x2\"]),\n",
        "                    \"ymax\": int(label[\"box2d\"][\"y2\"]),\n",
        "                }\n",
        "            )\n",
        "\n",
        "df = pd.DataFrame(df_rows)\n",
        "df.to_csv(bdd100k_hirundo_temp_dir_path / \"bdd100k.csv\", index=False)"
      ]
    },
    {
      "cell_type": "markdown",
      "metadata": {
        "id": "HxQCfz7FR_z_"
      },
      "source": [
        "4. Create a ZIP of the dataset to upload to HuggingFace.\n",
        "\n"
      ]
    },
    {
      "cell_type": "code",
      "execution_count": 5,
      "metadata": {
        "colab": {
          "base_uri": "https://localhost:8080/",
          "height": 35
        },
        "id": "Q9jw8DkwSpak",
        "outputId": "3013c4c8-9e6b-41bb-bace-53a494cbd0c0"
      },
      "outputs": [
        {
          "data": {
            "application/vnd.google.colaboratory.intrinsic+json": {
              "type": "string"
            },
            "text/plain": [
              "'/content/bdd100k_val_hirundo.zip'"
            ]
          },
          "execution_count": 5,
          "metadata": {},
          "output_type": "execute_result"
        }
      ],
      "source": [
        "import shutil\n",
        "\n",
        "relative_path = \"bdd100k/images\"\n",
        "(bdd100k_hirundo_temp_dir_path / \"bdd100k\").mkdir()\n",
        "shutil.copytree(\n",
        "    bdd100k_temp_dir_path / relative_path, bdd100k_hirundo_temp_dir_path / relative_path\n",
        ")\n",
        "\n",
        "bdd_zip = shutil.make_archive(\n",
        "    base_name=\"bdd100k_val_hirundo\",\n",
        "    format=\"zip\",\n",
        "    root_dir=bdd100k_hirundo_temp_dir_path,\n",
        ")\n",
        "bdd_zip"
      ]
    },
    {
      "cell_type": "markdown",
      "metadata": {
        "id": "CAQ6dC-OSptk"
      },
      "source": [
        "5. Upload to HuggingFace with `datasets`."
      ]
    },
    {
      "cell_type": "code",
      "execution_count": 6,
      "metadata": {
        "colab": {
          "base_uri": "https://localhost:8080/",
          "height": 337,
          "referenced_widgets": [
            "95cfa46e78384afb994b1f23c54bfdf4",
            "71bbe039e364497f854187d153a8e365",
            "71c6f0e265a84381ba17223ebe47a9e6",
            "53f064bcfb7f483eac1f76fe7aef1323",
            "c7dc46debe4942f286ff2bc71f8f03d4",
            "0b64050a7bd142c0bb7ed2cc740ad9fd",
            "0d5c71f018a9445695862f4d7542016f",
            "e2239173f1ad417e8bb98cfa79b839b9",
            "904af6a393f147f79fd48280608cfffc",
            "d2ed0848847e43efac3b818ce205973d",
            "aa25a1cf33ba433f9e65dc972970a524"
          ]
        },
        "id": "4Hh2yPkITBtL",
        "outputId": "f4f4ea8b-90b9-4b28-bce9-23eb7ffa7e8f"
      },
      "outputs": [
        {
          "name": "stdout",
          "output_type": "stream",
          "text": [
            "Requirement already satisfied: huggingface_hub in /usr/local/lib/python3.10/dist-packages (0.24.7)\n",
            "Requirement already satisfied: filelock in /usr/local/lib/python3.10/dist-packages (from huggingface_hub) (3.16.1)\n",
            "Requirement already satisfied: fsspec>=2023.5.0 in /usr/local/lib/python3.10/dist-packages (from huggingface_hub) (2024.6.1)\n",
            "Requirement already satisfied: packaging>=20.9 in /usr/local/lib/python3.10/dist-packages (from huggingface_hub) (24.1)\n",
            "Requirement already satisfied: pyyaml>=5.1 in /usr/local/lib/python3.10/dist-packages (from huggingface_hub) (6.0.2)\n",
            "Requirement already satisfied: requests in /usr/local/lib/python3.10/dist-packages (from huggingface_hub) (2.32.3)\n",
            "Requirement already satisfied: tqdm>=4.42.1 in /usr/local/lib/python3.10/dist-packages (from huggingface_hub) (4.66.5)\n",
            "Requirement already satisfied: typing-extensions>=3.7.4.3 in /usr/local/lib/python3.10/dist-packages (from huggingface_hub) (4.12.2)\n",
            "Requirement already satisfied: charset-normalizer<4,>=2 in /usr/local/lib/python3.10/dist-packages (from requests->huggingface_hub) (3.3.2)\n",
            "Requirement already satisfied: idna<4,>=2.5 in /usr/local/lib/python3.10/dist-packages (from requests->huggingface_hub) (3.10)\n",
            "Requirement already satisfied: urllib3<3,>=1.21.1 in /usr/local/lib/python3.10/dist-packages (from requests->huggingface_hub) (2.2.3)\n",
            "Requirement already satisfied: certifi>=2017.4.17 in /usr/local/lib/python3.10/dist-packages (from requests->huggingface_hub) (2024.8.30)\n"
          ]
        },
        {
          "data": {
            "application/vnd.jupyter.widget-view+json": {
              "model_id": "95cfa46e78384afb994b1f23c54bfdf4",
              "version_major": 2,
              "version_minor": 0
            },
            "text/plain": [
              "bdd100k_val_hirundo.zip:   0%|          | 0.00/570M [00:00<?, ?B/s]"
            ]
          },
          "metadata": {},
          "output_type": "display_data"
        },
        {
          "data": {
            "application/vnd.google.colaboratory.intrinsic+json": {
              "type": "string"
            },
            "text/plain": [
              "CommitInfo(commit_url='https://huggingface.co/datasets/hirundo-io/bdd100k-val/commit/0814ee5058ad4bbf0a0c4c7301d1720a95b289e4', commit_message='Upload bdd100k_val_hirundo.zip with huggingface_hub', commit_description='', oid='0814ee5058ad4bbf0a0c4c7301d1720a95b289e4', pr_url=None, pr_revision=None, pr_num=None)"
            ]
          },
          "execution_count": 6,
          "metadata": {},
          "output_type": "execute_result"
        }
      ],
      "source": [
        "%pip install huggingface_hub\n",
        "from huggingface_hub import HfApi\n",
        "\n",
        "bdd_zip_filename = Path(bdd_zip).name\n",
        "\n",
        "api = HfApi()\n",
        "repo_id = f\"{huggingface_account}/bdd100k-val\"\n",
        "if not api.repo_exists(repo_id, repo_type=\"dataset\"):\n",
        "    api.create_repo(\n",
        "        repo_id,\n",
        "        repo_type=\"dataset\",\n",
        "    )\n",
        "api.upload_file(\n",
        "    path_or_fileobj=bdd_zip,\n",
        "    path_in_repo=bdd_zip_filename,\n",
        "    repo_id=repo_id,\n",
        "    repo_type=\"dataset\",\n",
        ")"
      ]
    },
    {
      "cell_type": "markdown",
      "metadata": {
        "id": "9TdFBuBqSnTt"
      },
      "source": [
        "6. Cleanup dataset"
      ]
    },
    {
      "cell_type": "code",
      "execution_count": 8,
      "metadata": {
        "id": "2RcNa_oHR_QP"
      },
      "outputs": [],
      "source": [
        "bdd100k_temp_dir.cleanup()\n",
        "bdd100k_hirundo_temp_dir.cleanup()"
      ]
    },
    {
      "cell_type": "code",
      "execution_count": null,
      "metadata": {
        "id": "bHFWOLT65saU"
      },
      "outputs": [],
      "source": []
    }
  ],
  "metadata": {
    "colab": {
      "authorship_tag": "ABX9TyPGVs6oqJXyaBME6Bpf/vBK",
      "include_colab_link": true,
      "provenance": []
    },
    "kernelspec": {
      "display_name": ".venv",
      "language": "python",
      "name": "python3"
    },
    "language_info": {
      "name": "python",
      "version": "3.9.19"
    },
    "widgets": {
      "application/vnd.jupyter.widget-state+json": {
        "0b64050a7bd142c0bb7ed2cc740ad9fd": {
          "model_module": "@jupyter-widgets/base",
          "model_module_version": "1.2.0",
          "model_name": "LayoutModel",
          "state": {
            "_model_module": "@jupyter-widgets/base",
            "_model_module_version": "1.2.0",
            "_model_name": "LayoutModel",
            "_view_count": null,
            "_view_module": "@jupyter-widgets/base",
            "_view_module_version": "1.2.0",
            "_view_name": "LayoutView",
            "align_content": null,
            "align_items": null,
            "align_self": null,
            "border": null,
            "bottom": null,
            "display": null,
            "flex": null,
            "flex_flow": null,
            "grid_area": null,
            "grid_auto_columns": null,
            "grid_auto_flow": null,
            "grid_auto_rows": null,
            "grid_column": null,
            "grid_gap": null,
            "grid_row": null,
            "grid_template_areas": null,
            "grid_template_columns": null,
            "grid_template_rows": null,
            "height": null,
            "justify_content": null,
            "justify_items": null,
            "left": null,
            "margin": null,
            "max_height": null,
            "max_width": null,
            "min_height": null,
            "min_width": null,
            "object_fit": null,
            "object_position": null,
            "order": null,
            "overflow": null,
            "overflow_x": null,
            "overflow_y": null,
            "padding": null,
            "right": null,
            "top": null,
            "visibility": null,
            "width": null
          }
        },
        "0d5c71f018a9445695862f4d7542016f": {
          "model_module": "@jupyter-widgets/controls",
          "model_module_version": "1.5.0",
          "model_name": "DescriptionStyleModel",
          "state": {
            "_model_module": "@jupyter-widgets/controls",
            "_model_module_version": "1.5.0",
            "_model_name": "DescriptionStyleModel",
            "_view_count": null,
            "_view_module": "@jupyter-widgets/base",
            "_view_module_version": "1.2.0",
            "_view_name": "StyleView",
            "description_width": ""
          }
        },
        "53f064bcfb7f483eac1f76fe7aef1323": {
          "model_module": "@jupyter-widgets/controls",
          "model_module_version": "1.5.0",
          "model_name": "HTMLModel",
          "state": {
            "_dom_classes": [],
            "_model_module": "@jupyter-widgets/controls",
            "_model_module_version": "1.5.0",
            "_model_name": "HTMLModel",
            "_view_count": null,
            "_view_module": "@jupyter-widgets/controls",
            "_view_module_version": "1.5.0",
            "_view_name": "HTMLView",
            "description": "",
            "description_tooltip": null,
            "layout": "IPY_MODEL_d2ed0848847e43efac3b818ce205973d",
            "placeholder": "​",
            "style": "IPY_MODEL_aa25a1cf33ba433f9e65dc972970a524",
            "value": " 570M/570M [00:17&lt;00:00, 42.5MB/s]"
          }
        },
        "71bbe039e364497f854187d153a8e365": {
          "model_module": "@jupyter-widgets/controls",
          "model_module_version": "1.5.0",
          "model_name": "HTMLModel",
          "state": {
            "_dom_classes": [],
            "_model_module": "@jupyter-widgets/controls",
            "_model_module_version": "1.5.0",
            "_model_name": "HTMLModel",
            "_view_count": null,
            "_view_module": "@jupyter-widgets/controls",
            "_view_module_version": "1.5.0",
            "_view_name": "HTMLView",
            "description": "",
            "description_tooltip": null,
            "layout": "IPY_MODEL_0b64050a7bd142c0bb7ed2cc740ad9fd",
            "placeholder": "​",
            "style": "IPY_MODEL_0d5c71f018a9445695862f4d7542016f",
            "value": "bdd100k_val_hirundo.zip: 100%"
          }
        },
        "71c6f0e265a84381ba17223ebe47a9e6": {
          "model_module": "@jupyter-widgets/controls",
          "model_module_version": "1.5.0",
          "model_name": "FloatProgressModel",
          "state": {
            "_dom_classes": [],
            "_model_module": "@jupyter-widgets/controls",
            "_model_module_version": "1.5.0",
            "_model_name": "FloatProgressModel",
            "_view_count": null,
            "_view_module": "@jupyter-widgets/controls",
            "_view_module_version": "1.5.0",
            "_view_name": "ProgressView",
            "bar_style": "success",
            "description": "",
            "description_tooltip": null,
            "layout": "IPY_MODEL_e2239173f1ad417e8bb98cfa79b839b9",
            "max": 570430271,
            "min": 0,
            "orientation": "horizontal",
            "style": "IPY_MODEL_904af6a393f147f79fd48280608cfffc",
            "value": 570430271
          }
        },
        "904af6a393f147f79fd48280608cfffc": {
          "model_module": "@jupyter-widgets/controls",
          "model_module_version": "1.5.0",
          "model_name": "ProgressStyleModel",
          "state": {
            "_model_module": "@jupyter-widgets/controls",
            "_model_module_version": "1.5.0",
            "_model_name": "ProgressStyleModel",
            "_view_count": null,
            "_view_module": "@jupyter-widgets/base",
            "_view_module_version": "1.2.0",
            "_view_name": "StyleView",
            "bar_color": null,
            "description_width": ""
          }
        },
        "95cfa46e78384afb994b1f23c54bfdf4": {
          "model_module": "@jupyter-widgets/controls",
          "model_module_version": "1.5.0",
          "model_name": "HBoxModel",
          "state": {
            "_dom_classes": [],
            "_model_module": "@jupyter-widgets/controls",
            "_model_module_version": "1.5.0",
            "_model_name": "HBoxModel",
            "_view_count": null,
            "_view_module": "@jupyter-widgets/controls",
            "_view_module_version": "1.5.0",
            "_view_name": "HBoxView",
            "box_style": "",
            "children": [
              "IPY_MODEL_71bbe039e364497f854187d153a8e365",
              "IPY_MODEL_71c6f0e265a84381ba17223ebe47a9e6",
              "IPY_MODEL_53f064bcfb7f483eac1f76fe7aef1323"
            ],
            "layout": "IPY_MODEL_c7dc46debe4942f286ff2bc71f8f03d4"
          }
        },
        "aa25a1cf33ba433f9e65dc972970a524": {
          "model_module": "@jupyter-widgets/controls",
          "model_module_version": "1.5.0",
          "model_name": "DescriptionStyleModel",
          "state": {
            "_model_module": "@jupyter-widgets/controls",
            "_model_module_version": "1.5.0",
            "_model_name": "DescriptionStyleModel",
            "_view_count": null,
            "_view_module": "@jupyter-widgets/base",
            "_view_module_version": "1.2.0",
            "_view_name": "StyleView",
            "description_width": ""
          }
        },
        "c7dc46debe4942f286ff2bc71f8f03d4": {
          "model_module": "@jupyter-widgets/base",
          "model_module_version": "1.2.0",
          "model_name": "LayoutModel",
          "state": {
            "_model_module": "@jupyter-widgets/base",
            "_model_module_version": "1.2.0",
            "_model_name": "LayoutModel",
            "_view_count": null,
            "_view_module": "@jupyter-widgets/base",
            "_view_module_version": "1.2.0",
            "_view_name": "LayoutView",
            "align_content": null,
            "align_items": null,
            "align_self": null,
            "border": null,
            "bottom": null,
            "display": null,
            "flex": null,
            "flex_flow": null,
            "grid_area": null,
            "grid_auto_columns": null,
            "grid_auto_flow": null,
            "grid_auto_rows": null,
            "grid_column": null,
            "grid_gap": null,
            "grid_row": null,
            "grid_template_areas": null,
            "grid_template_columns": null,
            "grid_template_rows": null,
            "height": null,
            "justify_content": null,
            "justify_items": null,
            "left": null,
            "margin": null,
            "max_height": null,
            "max_width": null,
            "min_height": null,
            "min_width": null,
            "object_fit": null,
            "object_position": null,
            "order": null,
            "overflow": null,
            "overflow_x": null,
            "overflow_y": null,
            "padding": null,
            "right": null,
            "top": null,
            "visibility": null,
            "width": null
          }
        },
        "d2ed0848847e43efac3b818ce205973d": {
          "model_module": "@jupyter-widgets/base",
          "model_module_version": "1.2.0",
          "model_name": "LayoutModel",
          "state": {
            "_model_module": "@jupyter-widgets/base",
            "_model_module_version": "1.2.0",
            "_model_name": "LayoutModel",
            "_view_count": null,
            "_view_module": "@jupyter-widgets/base",
            "_view_module_version": "1.2.0",
            "_view_name": "LayoutView",
            "align_content": null,
            "align_items": null,
            "align_self": null,
            "border": null,
            "bottom": null,
            "display": null,
            "flex": null,
            "flex_flow": null,
            "grid_area": null,
            "grid_auto_columns": null,
            "grid_auto_flow": null,
            "grid_auto_rows": null,
            "grid_column": null,
            "grid_gap": null,
            "grid_row": null,
            "grid_template_areas": null,
            "grid_template_columns": null,
            "grid_template_rows": null,
            "height": null,
            "justify_content": null,
            "justify_items": null,
            "left": null,
            "margin": null,
            "max_height": null,
            "max_width": null,
            "min_height": null,
            "min_width": null,
            "object_fit": null,
            "object_position": null,
            "order": null,
            "overflow": null,
            "overflow_x": null,
            "overflow_y": null,
            "padding": null,
            "right": null,
            "top": null,
            "visibility": null,
            "width": null
          }
        },
        "e2239173f1ad417e8bb98cfa79b839b9": {
          "model_module": "@jupyter-widgets/base",
          "model_module_version": "1.2.0",
          "model_name": "LayoutModel",
          "state": {
            "_model_module": "@jupyter-widgets/base",
            "_model_module_version": "1.2.0",
            "_model_name": "LayoutModel",
            "_view_count": null,
            "_view_module": "@jupyter-widgets/base",
            "_view_module_version": "1.2.0",
            "_view_name": "LayoutView",
            "align_content": null,
            "align_items": null,
            "align_self": null,
            "border": null,
            "bottom": null,
            "display": null,
            "flex": null,
            "flex_flow": null,
            "grid_area": null,
            "grid_auto_columns": null,
            "grid_auto_flow": null,
            "grid_auto_rows": null,
            "grid_column": null,
            "grid_gap": null,
            "grid_row": null,
            "grid_template_areas": null,
            "grid_template_columns": null,
            "grid_template_rows": null,
            "height": null,
            "justify_content": null,
            "justify_items": null,
            "left": null,
            "margin": null,
            "max_height": null,
            "max_width": null,
            "min_height": null,
            "min_width": null,
            "object_fit": null,
            "object_position": null,
            "order": null,
            "overflow": null,
            "overflow_x": null,
            "overflow_y": null,
            "padding": null,
            "right": null,
            "top": null,
            "visibility": null,
            "width": null
          }
        }
      }
    }
  },
  "nbformat": 4,
  "nbformat_minor": 0
}
