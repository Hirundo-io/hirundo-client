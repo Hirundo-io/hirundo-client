{
 "cells": [
  {
   "cell_type": "markdown",
   "metadata": {
    "colab_type": "text",
    "id": "view-in-github"
   },
   "source": [
    "<a href=\"https://colab.research.google.com/github/Hirundo-io/hirundo-client/blob/clnt-9-add-jupyter-notebooks-to-github/notebooks/Cancel_Dataset_Optimization_Run.ipynb\" target=\"_parent\"><img src=\"https://colab.research.google.com/assets/colab-badge.svg\" alt=\"Open In Colab\"/></a>"
   ]
  },
  {
   "cell_type": "markdown",
   "metadata": {
    "id": "WOHjhp9ed6LM"
   },
   "source": [
    "# How to use cancel a Hirundo's Dataset Optimization run\n",
    "\n",
    "---\n",
    "\n",
    "1. We import `os` and `google.colab`'s `userdata` to get our secrets and assign them to environment variables."
   ]
  },
  {
   "cell_type": "code",
   "execution_count": null,
   "metadata": {
    "id": "RhDZX-KlbUIT"
   },
   "outputs": [],
   "source": [
    "%pip install hirundo\n",
    "import os\n",
    "\n",
    "from google.colab import userdata\n",
    "\n",
    "os.environ[\"API_HOST\"] = userdata.get(\"API_HOST\")\n",
    "os.environ[\"API_KEY\"] = userdata.get(\"API_KEY\")"
   ]
  },
  {
   "cell_type": "markdown",
   "metadata": {
    "id": "szD58TSCivAN"
   },
   "source": [
    "2. Import `OptimizeDataset` class from `hirundo`"
   ]
  },
  {
   "cell_type": "code",
   "execution_count": null,
   "metadata": {
    "id": "DzBuUrmCiuID"
   },
   "outputs": [],
   "source": [
    "from hirundo import (\n",
    "    OptimizationDataset,\n",
    ")"
   ]
  },
  {
   "cell_type": "markdown",
   "metadata": {
    "id": "eJhmScbels65"
   },
   "source": [
    "3. Cancel dataset optimization run by calling `cancel_by_id` with the dataset optimization run ID (a string)"
   ]
  },
  {
   "cell_type": "code",
   "execution_count": null,
   "metadata": {
    "id": "dpeluYkHlvjU"
   },
   "outputs": [],
   "source": [
    "dataset_optimization_run_id = \"\"  # @param {type:\"string\"}\n",
    "\n",
    "if not dataset_optimization_run_id:\n",
    "    raise ValueError(\"You must enter a dataset optimization run ID\")\n",
    "\n",
    "OptimizationDataset.cancel_by_id(dataset_optimization_run_id)"
   ]
  }
 ],
 "metadata": {
  "colab": {
   "authorship_tag": "ABX9TyN5rCXdwrxMD/mDK1ocyCLP",
   "include_colab_link": true,
   "provenance": []
  },
  "kernelspec": {
   "display_name": "Python 3",
   "name": "python3"
  },
  "language_info": {
   "name": "python"
  }
 },
 "nbformat": 4,
 "nbformat_minor": 0
}
