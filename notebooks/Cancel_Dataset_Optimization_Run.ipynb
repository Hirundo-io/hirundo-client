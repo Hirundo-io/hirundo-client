{
  "nbformat": 4,
  "nbformat_minor": 0,
  "metadata": {
    "colab": {
      "provenance": [],
      "authorship_tag": "ABX9TyN5rCXdwrxMD/mDK1ocyCLP",
      "include_colab_link": true
    },
    "kernelspec": {
      "name": "python3",
      "display_name": "Python 3"
    },
    "language_info": {
      "name": "python"
    }
  },
  "cells": [
    {
      "cell_type": "markdown",
      "metadata": {
        "id": "view-in-github",
        "colab_type": "text"
      },
      "source": [
        "<a href=\"https://colab.research.google.com/github/Hirundo-io/hirundo-client/blob/clnt-9-add-jupyter-notebooks-to-github/notebooks/Cancel_Dataset_Optimization_Run.ipynb\" target=\"_parent\"><img src=\"https://colab.research.google.com/assets/colab-badge.svg\" alt=\"Open In Colab\"/></a>"
      ]
    },
    {
      "cell_type": "markdown",
      "source": [
        "# How to use cancel a Hirundo's Dataset Optimization run\n",
        "\n",
        "---\n",
        "\n",
        "1. We import `os` and `google.colab`'s `userdata` to get our secrets and assign them to environment variables."
      ],
      "metadata": {
        "id": "WOHjhp9ed6LM"
      }
    },
    {
      "cell_type": "code",
      "execution_count": null,
      "metadata": {
        "id": "RhDZX-KlbUIT"
      },
      "outputs": [],
      "source": [
        "%pip install hirundo\n",
        "import os\n",
        "\n",
        "from google.colab import userdata\n",
        "\n",
        "os.environ[\"API_HOST\"] = userdata.get(\"API_HOST\")\n",
        "os.environ[\"API_KEY\"] = userdata.get(\"API_KEY\")"
      ]
    },
    {
      "cell_type": "markdown",
      "source": [
        "2. Import `OptimizeDataset` class from `hirundo`"
      ],
      "metadata": {
        "id": "szD58TSCivAN"
      }
    },
    {
      "cell_type": "code",
      "source": [
        "from hirundo import (\n",
        "    OptimizationDataset,\n",
        ")"
      ],
      "metadata": {
        "id": "DzBuUrmCiuID"
      },
      "execution_count": null,
      "outputs": []
    },
    {
      "cell_type": "markdown",
      "source": [
        "3. Cancel dataset optimization run by calling `cancel_by_id` with the dataset optimization run ID (a string)"
      ],
      "metadata": {
        "id": "eJhmScbels65"
      }
    },
    {
      "cell_type": "code",
      "source": [
        "dataset_optimization_run_id = \"\" # @param {type:\"string\"}\n",
        "\n",
        "if not dataset_optimization_run_id:\n",
        "  raise ValueError(\"You must enter a dataset optimization run ID\")\n",
        "\n",
        "OptimizationDataset.cancel_by_id(dataset_optimization_run_id)"
      ],
      "metadata": {
        "id": "dpeluYkHlvjU"
      },
      "execution_count": null,
      "outputs": []
    }
  ]
}