{
 "cells": [
  {
   "cell_type": "markdown",
   "metadata": {
    "colab_type": "text",
    "id": "view-in-github"
   },
   "source": [
    "<a href=\"https://colab.research.google.com/github/Hirundo-io/hirundo-client/blob/clnt-9-add-jupyter-notebooks-to-github/notebooks/Create_cifar100_dataset_GCP.ipynb\" target=\"_parent\"><img src=\"https://colab.research.google.com/assets/colab-badge.svg\" alt=\"Open In Colab\"/></a>"
   ]
  },
  {
   "cell_type": "markdown",
   "metadata": {
    "id": "g_LpV5xrmW9e"
   },
   "source": [
    "# How to create a Hirundo dataset (GCP Storage Bucket)\n",
    "\n",
    "--\n",
    "\n",
    "0. Install `torchvision` and `pandas`, set the `GCP_CREDENTIALS` environment variable and set `bucket_name`."
   ]
  },
  {
   "cell_type": "code",
   "execution_count": null,
   "metadata": {
    "collapsed": true,
    "id": "oWfqvbjqnGPv"
   },
   "outputs": [],
   "source": [
    "%pip install torchvision pandas\n",
    "import os\n",
    "\n",
    "from google.colab import userdata\n",
    "\n",
    "os.environ[\"GOOGLE_APPLICATION_CREDENTIALS\"] = userdata.get(\"GCP_CREDENTIALS_RW\")\n",
    "\n",
    "bucket_name = \"cifar100bucket\"  # @param {type:\"string\"}"
   ]
  },
  {
   "cell_type": "markdown",
   "metadata": {
    "id": "Pu4f2_pMoEFP"
   },
   "source": [
    "1. Import `tempfile` to create a temporary directory & `CIFAR100` from `torchvision.datasets` to download the dataset."
   ]
  },
  {
   "cell_type": "code",
   "execution_count": null,
   "metadata": {
    "id": "Pb4ek3PmmvFh"
   },
   "outputs": [],
   "source": [
    "import tempfile\n",
    "\n",
    "from torchvision.datasets import CIFAR100\n",
    "\n",
    "temp_dir = tempfile.TemporaryDirectory()\n",
    "temp_dir_name = temp_dir.name\n",
    "cifar100 = CIFAR100(temp_dir_name, download=True)"
   ]
  },
  {
   "cell_type": "markdown",
   "metadata": {
    "id": "Zf1Z0mBznX0I"
   },
   "source": [
    "2. Import `Path` from `pathlib` and `pandas` to create `DataFrame`."
   ]
  },
  {
   "cell_type": "code",
   "execution_count": null,
   "metadata": {
    "id": "I208k_ApnJyN"
   },
   "outputs": [],
   "source": [
    "from pathlib import Path\n",
    "\n",
    "import pandas as pd"
   ]
  },
  {
   "cell_type": "markdown",
   "metadata": {
    "id": "wcqwrgRDnfUk"
   },
   "source": [
    "3. Create `DataFrame`."
   ]
  },
  {
   "cell_type": "code",
   "execution_count": null,
   "metadata": {
    "id": "7sh-oMrlnelv"
   },
   "outputs": [],
   "source": [
    "temp_dir_dataset_path = Path(temp_dir_name) / \"dataset\"\n",
    "temp_dir_dataset_path.mkdir()\n",
    "img_dir = temp_dir_dataset_path / \"images\"\n",
    "img_dir.mkdir()\n",
    "\n",
    "csv = pd.DataFrame(columns=[\"image_path\", \"class_name\"], index=range(len(cifar100)))\n",
    "for i, item in enumerate(cifar100):\n",
    "    image, target = item\n",
    "    image_path = img_dir / f\"{i}.png\"\n",
    "    csv.loc[i] = {\n",
    "        \"image_path\": image_path.relative_to(temp_dir_dataset_path),\n",
    "        \"class_name\": cifar100.classes[target],\n",
    "    }\n",
    "    image.save(image_path)\n",
    "\n",
    "csv.to_csv(temp_dir_dataset_path / \"cifar100.csv\")"
   ]
  },
  {
   "cell_type": "markdown",
   "metadata": {
    "id": "NjizJW8Xon3V"
   },
   "source": [
    "4. Upload the CSV and images to GCP Storage Bucket."
   ]
  },
  {
   "cell_type": "code",
   "execution_count": null,
   "metadata": {
    "id": "l3aI30_Kor0K"
   },
   "outputs": [],
   "source": [
    "!gsutil -m rsync $img_dir gs://$bucket_name/$img_dir\n",
    "!gsutil cp $temp_dir_dataset_path/cifar100.csv gs://$bucket_name/cifar100.csv"
   ]
  },
  {
   "cell_type": "markdown",
   "metadata": {
    "id": "UkmpY6SEpx7x"
   },
   "source": [
    "5. Get `cifar100` class list."
   ]
  },
  {
   "cell_type": "code",
   "execution_count": null,
   "metadata": {
    "id": "qT1L3aYVpwm7"
   },
   "outputs": [],
   "source": [
    "'\"' + '\", \"'.join(cifar100.classes) + '\"'"
   ]
  },
  {
   "cell_type": "markdown",
   "metadata": {
    "id": "gyUm2gtLosbE"
   },
   "source": [
    "5. Cleanup the temporary folder."
   ]
  },
  {
   "cell_type": "code",
   "execution_count": null,
   "metadata": {
    "id": "gJdn1BC3nsFq"
   },
   "outputs": [],
   "source": [
    "temp_dir.cleanup()"
   ]
  }
 ],
 "metadata": {
  "colab": {
   "authorship_tag": "ABX9TyMPxdSYkmColOMCOR0/KLCP",
   "include_colab_link": true,
   "provenance": []
  },
  "kernelspec": {
   "display_name": "Python 3",
   "name": "python3"
  },
  "language_info": {
   "name": "python"
  }
 },
 "nbformat": 4,
 "nbformat_minor": 0
}
