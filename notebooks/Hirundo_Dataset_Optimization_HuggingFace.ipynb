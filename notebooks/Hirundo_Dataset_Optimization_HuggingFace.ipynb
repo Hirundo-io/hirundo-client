{
  "nbformat": 4,
  "nbformat_minor": 0,
  "metadata": {
    "colab": {
      "provenance": [],
      "authorship_tag": "ABX9TyMM8uL4ruGZOAahzXV7bRQI",
      "include_colab_link": true
    },
    "kernelspec": {
      "name": "python3",
      "display_name": "Python 3"
    },
    "language_info": {
      "name": "python"
    }
  },
  "cells": [
    {
      "cell_type": "markdown",
      "metadata": {
        "id": "view-in-github",
        "colab_type": "text"
      },
      "source": [
        "<a href=\"https://colab.research.google.com/github/Hirundo-io/hirundo-client/blob/clnt-9-add-jupyter-notebooks-to-github/notebooks/Hirundo_Dataset_Optimization_HuggingFace.ipynb\" target=\"_parent\"><img src=\"https://colab.research.google.com/assets/colab-badge.svg\" alt=\"Open In Colab\"/></a>"
      ]
    },
    {
      "cell_type": "markdown",
      "source": [
        "# How to use Hirundo's Dataset Optimization (HuggingFace)\n",
        "\n",
        "---\n",
        "\n",
        "\n",
        "\n",
        "Let's start with a simple example using a dataset we've prepared on HuggingFace's datasets.\n",
        "\n",
        "## HuggingFace `datasets` example\n",
        "\n",
        "1. We import `os` and `google.colab`'s `userdata` to get our secrets and assign them to environment variables."
      ],
      "metadata": {
        "id": "WOHjhp9ed6LM"
      }
    },
    {
      "cell_type": "code",
      "source": [
        "%pip install hirundo\n",
        "import os\n",
        "\n",
        "from google.colab import userdata\n",
        "\n",
        "os.environ[\"API_HOST\"] = userdata.get(\"API_HOST\")\n",
        "os.environ[\"API_KEY\"] = userdata.get(\"API_KEY\")"
      ],
      "metadata": {
        "id": "fpv7us-OicYG"
      },
      "execution_count": null,
      "outputs": []
    },
    {
      "cell_type": "markdown",
      "source": [
        "2. We import the `GitRepo` class, the `OptimizationDataset` class, as well as the `LabellingType` enum, the `StorageLink` class (to indicate where in our storage integration, the dataset files are saved), the `StorageIntegration` class, `the StorageTypes` enum, and the `StorageGit` storage class"
      ],
      "metadata": {
        "id": "pywDlD47if67"
      }
    },
    {
      "cell_type": "code",
      "execution_count": null,
      "metadata": {
        "id": "RhDZX-KlbUIT"
      },
      "outputs": [],
      "source": [
        "import os\n",
        "\n",
        "from hirundo import (\n",
        "    GitRepo,\n",
        "    OptimizationDataset,\n",
        "    LabellingType,\n",
        "    StorageLink,\n",
        "    StorageIntegration,\n",
        "    StorageTypes,\n",
        "    StorageGit,\n",
        ")"
      ]
    },
    {
      "cell_type": "markdown",
      "source": [
        "3. First we create the `OptimizationDataset` object"
      ],
      "metadata": {
        "id": "eJhmScbels65"
      }
    },
    {
      "cell_type": "code",
      "source": [
        "test_dataset = OptimizationDataset(\n",
        "    name=\"HuggingFace-test-OD-BDD-validation dataset\",\n",
        "    labelling_type=LabellingType.ObjectDetection,\n",
        "    dataset_storage=StorageLink(\n",
        "        storage_integration=StorageIntegration(\n",
        "            name=\"BDD-100k-validation-dataset\",\n",
        "            type=StorageTypes.GIT,\n",
        "            git=StorageGit(\n",
        "                repo=GitRepo(\n",
        "                    name=\"BDD-100k-validation dataset\",\n",
        "                    repository_url=\"http://git@hf.co:datasets/hirundo-io/bdd100k-validation-only\",\n",
        "                ),\n",
        "                branch=\"main\",\n",
        "            ),\n",
        "        ),\n",
        "        path=\"/bdd100k_val_hirundo.zip/bdd100k\",\n",
        "    ),\n",
        "    dataset_metadata_path=\"bdd100k.csv\",\n",
        "    classes=[\n",
        "        \"traffic light\",\n",
        "        \"traffic sign\",\n",
        "        \"car\",\n",
        "        \"pedestrian\",\n",
        "        \"bus\",\n",
        "        \"truck\",\n",
        "        \"rider\",\n",
        "        \"bicycle\",\n",
        "        \"motorcycle\",\n",
        "        \"train\",\n",
        "        \"other vehicle\",\n",
        "        \"other person\",\n",
        "        \"trailer\",\n",
        "    ],\n",
        ")"
      ],
      "metadata": {
        "id": "dpeluYkHlvjU"
      },
      "execution_count": null,
      "outputs": []
    },
    {
      "cell_type": "markdown",
      "source": [
        "4. Now that we have created our dataset, we can launch a dataset optimization run"
      ],
      "metadata": {
        "id": "FT50g4x7rsaW"
      }
    },
    {
      "cell_type": "code",
      "source": [
        "run_id = test_dataset.run_optimization()\n",
        "print(\"Running optimization. Run ID is \", run_id)\n",
        "test_dataset.check_run()"
      ],
      "metadata": {
        "id": "WqZQzEX6d5id"
      },
      "execution_count": null,
      "outputs": []
    }
  ]
}