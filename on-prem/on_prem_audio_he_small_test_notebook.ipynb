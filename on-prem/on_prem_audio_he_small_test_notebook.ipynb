{
 "cells": [
  {
   "cell_type": "code",
   "execution_count": null,
   "metadata": {},
   "outputs": [],
   "source": [
    "import logging\n",
    "import os\n",
    "\n",
    "from hirundo import (\n",
    "    GitPlainAuth,\n",
    "    GitRepo,\n",
    "    HirundoCSV,\n",
    "    LabelingType,\n",
    "    OptimizationDataset,\n",
    "    StorageConfig,\n",
    "    StorageGit,\n",
    "    StorageTypes,\n",
    ")\n",
    "\n",
    "logger = logging.getLogger(__name__)\n",
    "\n",
    "unique_id = os.getenv(\"UNIQUE_ID\", \"\").replace(\".\", \"-\").replace(\"/\", \"-\")\n",
    "\n",
    "run_ids = [run.run_id for run in OptimizationDataset.list_runs() if run.run_id]\n",
    "for run_id in run_ids:\n",
    "    OptimizationDataset.cancel_by_id(run_id)\n",
    "dataset_ids = [dataset.id for dataset in OptimizationDataset.list_datasets()]\n",
    "for dataset_id in dataset_ids:\n",
    "    OptimizationDataset.delete_by_id(dataset_id)\n",
    "storage_ids = [storage_config.id for storage_config in StorageConfig.list()]\n",
    "for storage_id in storage_ids:\n",
    "    StorageConfig.delete_by_id(storage_id)\n",
    "git_repo_ids = [git_repo.id for git_repo in GitRepo.list()]\n",
    "for git_repo_id in git_repo_ids:\n",
    "    GitRepo.delete_by_id(git_repo_id)\n",
    "\n",
    "test_storage_git = StorageGit(\n",
    "    repo=GitRepo(\n",
    "        name=f\"STT-RoboShaulGolden-dataset{unique_id}\",\n",
    "        repository_url=\"https://huggingface.co/datasets/hirundo-io/RoboShaulGolden\",\n",
    "        plain_auth=GitPlainAuth(\n",
    "            username=\"blewis-hir\",\n",
    "            password=os.environ[\"HUGGINGFACE_ACCESS_TOKEN\"],\n",
    "        ),\n",
    "    ),\n",
    "    branch=\"main\",\n",
    ")\n",
    "test_dataset = OptimizationDataset(\n",
    "    name=f\"TEST-STT-RoboShaulGolden-dataset{unique_id}\",\n",
    "    labeling_type=LabelingType.SPEECH_TO_TEXT,\n",
    "    language=\"he\",\n",
    "    storage_config=StorageConfig(\n",
    "        name=f\"STT-RoboShaulGolden-dataset{unique_id}\",\n",
    "        type=StorageTypes.GIT,\n",
    "        git=test_storage_git,\n",
    "    ),\n",
    "    data_root_url=test_storage_git.get_url(\"/wavs\"),\n",
    "    labeling_info=HirundoCSV(\n",
    "        csv_url=test_storage_git.get_url(\"/meta.csv\"),\n",
    "    ),\n",
    ")\n",
    "\n",
    "test_dataset.run_optimization()"
   ]
  },
  {
   "cell_type": "code",
   "execution_count": null,
   "metadata": {},
   "outputs": [],
   "source": [
    "results = test_dataset.check_run()\n",
    "results.suspects.to_csv(\"he-on-prem-audio-test.csv\")"
   ]
  },
  {
   "cell_type": "code",
   "execution_count": null,
   "metadata": {},
   "outputs": [],
   "source": []
  }
 ],
 "metadata": {
  "kernelspec": {
   "display_name": ".venv",
   "language": "python",
   "name": "python3"
  },
  "language_info": {
   "codemirror_mode": {
    "name": "ipython",
    "version": 3
   },
   "file_extension": ".py",
   "mimetype": "text/x-python",
   "name": "python",
   "nbconvert_exporter": "python",
   "pygments_lexer": "ipython3",
   "version": "3.9.19"
  }
 },
 "nbformat": 4,
 "nbformat_minor": 2
}
