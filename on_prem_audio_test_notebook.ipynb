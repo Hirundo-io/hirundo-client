{
 "cells": [
  {
   "cell_type": "code",
   "execution_count": 1,
   "metadata": {},
   "outputs": [
    {
     "name": "stderr",
     "output_type": "stream",
     "text": [
      "/Users/blewis/Programming/hirundo-client/.venv/lib/python3.9/site-packages/tqdm/auto.py:21: TqdmWarning: IProgress not found. Please update jupyter and ipywidgets. See https://ipywidgets.readthedocs.io/en/stable/user_install.html\n",
      "  from .autonotebook import tqdm as notebook_tqdm\n",
      "Cancelling run with ID: e2ee490c-99de-444b-8f34-83caf2d715c4\n",
      "Deleted dataset with ID: 135\n",
      "Deleted storage integration with ID: 140\n",
      "Created storage integration with ID: 141\n",
      "Created dataset with ID: 136\n",
      "Started the run with ID: efd28fc7-d295-4a8b-9d95-b4d3bbceadc8\n",
      "Optimization run completed successfully: 100%|██████████| 100.0/100.0 [05:16<00:00,  3.17s/it]      "
     ]
    },
    {
     "name": "stdout",
     "output_type": "stream",
     "text": [
      "suspects=             image_path     label  split  suspect_score  suspect_level  \\\n",
      "3632  /images/36320.png       cat  train   1.000000e+00            1.0   \n",
      "1479  /images/14790.png      ship  train   9.710029e-01            1.0   \n",
      "894    /images/8940.png      ship  train   7.296918e-01            1.0   \n",
      "2034  /images/20340.png      deer  train   7.133279e-01            1.0   \n",
      "709    /images/7090.png       dog  train   4.025281e-01            1.0   \n",
      "...                 ...       ...    ...            ...            ...   \n",
      "2216  /images/22160.png     truck  train   1.899035e-13            0.0   \n",
      "1814  /images/18140.png      ship  train   9.983570e-14            0.0   \n",
      "1679  /images/16790.png      bird  train   7.334427e-14            0.0   \n",
      "288    /images/2880.png     truck  train   5.965531e-14            0.0   \n",
      "2204  /images/22040.png  airplane  train   2.194576e-14            0.0   \n",
      "\n",
      "     suggested_label  suggested_label_conf  rank  \n",
      "3632             cat              0.999084     1  \n",
      "1479            ship              1.000000     2  \n",
      "894             ship              0.999997     3  \n",
      "2034            deer              0.999986     4  \n",
      "709              dog              1.000000     5  \n",
      "...              ...                   ...   ...  \n",
      "2216             NaN                   NaN  4996  \n",
      "1814             NaN                   NaN  4997  \n",
      "1679             NaN                   NaN  4998  \n",
      "288              NaN                   NaN  4999  \n",
      "2204             NaN                   NaN  5000  \n",
      "\n",
      "[5000 rows x 8 columns] warnings_and_errors=Empty DataFrame\n",
      "Columns: [image_path, label, status, split]\n",
      "Index: []\n"
     ]
    },
    {
     "name": "stderr",
     "output_type": "stream",
     "text": [
      "\n"
     ]
    }
   ],
   "source": [
    "import logging\n",
    "import os\n",
    "\n",
    "from hirundo.dataset_optimization import OptimizationDataset\n",
    "from hirundo.enum import LabellingType\n",
    "from hirundo.storage import StorageIntegration, StorageLink, StorageTypes\n",
    "\n",
    "logger = logging.getLogger(__name__)\n",
    "\n",
    "unique_id = os.getenv(\"UNIQUE_ID\", \"\").replace(\".\", \"-\").replace(\"/\", \"-\")\n",
    "\n",
    "run_ids = [\n",
    "    dataset[\"run_id\"] for dataset in OptimizationDataset.list() if dataset[\"run_id\"]\n",
    "]\n",
    "for run_id in run_ids:\n",
    "    OptimizationDataset.cancel_by_id(run_id)\n",
    "dataset_ids = [dataset[\"id\"] for dataset in OptimizationDataset.list()]\n",
    "for dataset_id in dataset_ids:\n",
    "    OptimizationDataset.delete_by_id(dataset_id)\n",
    "storage_integration_ids = [\n",
    "    storage_integration[\"id\"] for storage_integration in StorageIntegration.list()\n",
    "]\n",
    "for storage_integration_id in storage_integration_ids:\n",
    "    StorageIntegration.delete_by_id(storage_integration_id)\n",
    "\n",
    "test_dataset = OptimizationDataset(\n",
    "    name=f\"TEST-STT-MASC-dataset{unique_id}\",\n",
    "    labelling_type=LabellingType.SpeechToText,\n",
    "    language=\"ar\",\n",
    "    dataset_storage=StorageLink(\n",
    "        storage_integration=StorageIntegration(\n",
    "            name=f\"STT-MASC-dataset{unique_id}\",\n",
    "            type=StorageTypes.LOCAL,\n",
    "            path=\"MASC\",\n",
    "        ),\n",
    "    ),\n",
    "    dataset_metadata_path=\"meta-old.csv\",\n",
    ")\n",
    "\n",
    "test_dataset.run_optimization()\n",
    "results = test_dataset.check_run()\n",
    "print(results)"
   ]
  },
  {
   "cell_type": "code",
   "execution_count": null,
   "metadata": {},
   "outputs": [],
   "source": []
  }
 ],
 "metadata": {
  "kernelspec": {
   "display_name": ".venv",
   "language": "python",
   "name": "python3"
  },
  "language_info": {
   "codemirror_mode": {
    "name": "ipython",
    "version": 3
   },
   "file_extension": ".py",
   "mimetype": "text/x-python",
   "name": "python",
   "nbconvert_exporter": "python",
   "pygments_lexer": "ipython3",
   "version": "3.9.19"
  }
 },
 "nbformat": 4,
 "nbformat_minor": 2
}
