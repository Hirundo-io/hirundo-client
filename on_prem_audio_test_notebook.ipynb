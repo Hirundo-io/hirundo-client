{
 "cells": [
  {
   "cell_type": "code",
   "execution_count": 1,
   "metadata": {},
   "outputs": [
    {
     "name": "stderr",
     "output_type": "stream",
     "text": [
      "/Users/blewis/Programming/hirundo-client/.venv/lib/python3.9/site-packages/tqdm/auto.py:21: TqdmWarning: IProgress not found. Please update jupyter and ipywidgets. See https://ipywidgets.readthedocs.io/en/stable/user_install.html\n",
      "  from .autonotebook import tqdm as notebook_tqdm\n",
      "Cancelling run with ID: 08b6144d-2872-415f-9fdc-33451477a70b\n",
      "Deleted dataset with ID: 18\n",
      "Deleted storage integration with ID: 21\n",
      "Created storage integration with ID: 22\n",
      "Created dataset with ID: 19\n",
      "Started the run with ID: 65358256-6bed-4ad3-9fbc-fa35a6cf4d5b\n"
     ]
    },
    {
     "data": {
      "text/plain": [
       "'65358256-6bed-4ad3-9fbc-fa35a6cf4d5b'"
      ]
     },
     "execution_count": 1,
     "metadata": {},
     "output_type": "execute_result"
    }
   ],
   "source": [
    "import logging\n",
    "import os\n",
    "\n",
    "from hirundo.dataset_optimization import OptimizationDataset\n",
    "from hirundo.enum import LabellingType\n",
    "from hirundo.git import GitPlainAuthBase\n",
    "from hirundo.storage import (\n",
    "    GitRepo,\n",
    "    StorageGit,\n",
    "    StorageIntegration,\n",
    "    StorageLink,\n",
    "    StorageTypes,\n",
    ")\n",
    "\n",
    "logger = logging.getLogger(__name__)\n",
    "\n",
    "unique_id = os.getenv(\"UNIQUE_ID\", \"\").replace(\".\", \"-\").replace(\"/\", \"-\")\n",
    "\n",
    "run_ids = [\n",
    "    dataset[\"run_id\"] for dataset in OptimizationDataset.list() if dataset[\"run_id\"]\n",
    "]\n",
    "for run_id in run_ids:\n",
    "    OptimizationDataset.cancel_by_id(run_id)\n",
    "dataset_ids = [dataset[\"id\"] for dataset in OptimizationDataset.list()]\n",
    "for dataset_id in dataset_ids:\n",
    "    OptimizationDataset.delete_by_id(dataset_id)\n",
    "storage_integration_ids = [\n",
    "    storage_integration[\"id\"] for storage_integration in StorageIntegration.list()\n",
    "]\n",
    "for storage_integration_id in storage_integration_ids:\n",
    "    StorageIntegration.delete_by_id(storage_integration_id)\n",
    "git_repo_ids = [git_repo[\"id\"] for git_repo in GitRepo.list()]\n",
    "for git_repo_id in git_repo_ids:\n",
    "    GitRepo.delete_by_id(git_repo_id)\n",
    "\n",
    "test_dataset = OptimizationDataset(\n",
    "    name=f\"TEST-STT-RoboShaul-dataset{unique_id}\",\n",
    "    labelling_type=LabellingType.SPEECH_TO_TEXT,\n",
    "    language=\"he\",\n",
    "    dataset_storage=StorageLink(\n",
    "        storage_integration=StorageIntegration(\n",
    "            name=f\"STT-RoboShaul-dataset{unique_id}\",\n",
    "            type=StorageTypes.GIT,\n",
    "            git=StorageGit(\n",
    "                repo=GitRepo(\n",
    "                    name=f\"STT-RoboShaul-dataset{unique_id}\",\n",
    "                    repository_url=\"https://huggingface.co/datasets/hirundo-io/RoboShaul\",\n",
    "                    plain_auth=GitPlainAuthBase(\n",
    "                        username=\"blewis-hir\",\n",
    "                        password=os.environ[\"HUGGINGFACE_ACCESS_TOKEN\"],\n",
    "                    ),\n",
    "                ),\n",
    "                branch=\"main\",\n",
    "            ),\n",
    "        ),\n",
    "    ),\n",
    "    dataset_metadata_path=\"meta-old.csv\",\n",
    ")\n",
    "\n",
    "test_dataset.run_optimization()"
   ]
  },
  {
   "cell_type": "code",
   "execution_count": 3,
   "metadata": {},
   "outputs": [
    {
     "name": "stderr",
     "output_type": "stream",
     "text": [
      "Optimization run completed successfully: 100%|██████████| 100.0/100.0 [15:06<00:00,  9.06s/it]"
     ]
    },
    {
     "name": "stderr",
     "output_type": "stream",
     "text": [
      "\n"
     ]
    }
   ],
   "source": [
    "results = test_dataset.check_run()\n",
    "print(results)"
   ]
  },
  {
   "cell_type": "code",
   "execution_count": 5,
   "metadata": {},
   "outputs": [],
   "source": [
    "results.suspects.to_csv(\"test.csv\")"
   ]
  },
  {
   "cell_type": "code",
   "execution_count": null,
   "metadata": {},
   "outputs": [],
   "source": []
  }
 ],
 "metadata": {
  "kernelspec": {
   "display_name": ".venv",
   "language": "python",
   "name": "python3"
  },
  "language_info": {
   "codemirror_mode": {
    "name": "ipython",
    "version": 3
   },
   "file_extension": ".py",
   "mimetype": "text/x-python",
   "name": "python",
   "nbconvert_exporter": "python",
   "pygments_lexer": "ipython3",
   "version": "3.9.19"
  }
 },
 "nbformat": 4,
 "nbformat_minor": 2
}
